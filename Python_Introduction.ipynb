{
 "cells": [
  {
   "cell_type": "markdown",
   "id": "ab9a08a2",
   "metadata": {},
   "source": [
    "# Python Primer (Unfinished)"
   ]
  },
  {
   "cell_type": "markdown",
   "id": "a0c4e525",
   "metadata": {},
   "source": [
    "**In this python primer, we'll go through the fundamentals at a pretty bare-bones level, which is all you should need to complete and understand the contents of the following labs. If you would like more help with python coding. . .**"
   ]
  },
  {
   "cell_type": "markdown",
   "id": "0bd8f8a4",
   "metadata": {},
   "source": [
    "## Running Commands"
   ]
  },
  {
   "cell_type": "markdown",
   "id": "d8532e2b",
   "metadata": {},
   "source": [
    "## Strings and Methods"
   ]
  },
  {
   "cell_type": "markdown",
   "id": "e041f57f",
   "metadata": {},
   "source": [
    "## Lists"
   ]
  },
  {
   "cell_type": "markdown",
   "id": "33f0551d",
   "metadata": {},
   "source": [
    "## Dictionaries"
   ]
  },
  {
   "cell_type": "markdown",
   "id": "6cc2a0a9",
   "metadata": {},
   "source": [
    "## Functions"
   ]
  },
  {
   "cell_type": "markdown",
   "id": "754c98e5",
   "metadata": {},
   "source": [
    "## Control Structures"
   ]
  },
  {
   "cell_type": "markdown",
   "id": "2e552cfa",
   "metadata": {},
   "source": [
    "## Plotting Data"
   ]
  },
  {
   "cell_type": "markdown",
   "id": "cc1598ed",
   "metadata": {},
   "source": [
    "## Practice"
   ]
  },
  {
   "cell_type": "markdown",
   "id": "1b461bbf",
   "metadata": {},
   "source": [
    "Up until now, you have just been running the code that I have prepared to get you acclimated with the basics of python. Now its time to have you do some coding yourself! Try the following questions and attempt to get the desired output that I'll put below the empty code blocks. If you get stuck or can't figure it out, I have put the solutions in another section at the bottom.\n",
    "\n",
    "Happy coding!"
   ]
  },
  {
   "cell_type": "markdown",
   "id": "4f0e0152",
   "metadata": {},
   "source": [
    "### Question 1\n",
    "\n",
    "Create a loop that generates a fibonacci sequence of length 15, but could be any length if the variable is changed.\n",
    "\n",
    "(The Fibonacci Sequence is the series of numbers : 0, 1, 1, 2, 3, 5, 8, 13, 21, ....\n",
    "\n",
    "Every next number is found by adding up the two numbers before it.)"
   ]
  },
  {
   "cell_type": "code",
   "execution_count": 3,
   "id": "6f01fa52",
   "metadata": {},
   "outputs": [
    {
     "data": {
      "text/plain": [
       "[0, 1, 1, 2, 3, 5, 8, 13, 21, 34, 55, 89, 144, 233, 377, 610]"
      ]
     },
     "execution_count": 3,
     "metadata": {},
     "output_type": "execute_result"
    }
   ],
   "source": [
    "length = 15\n",
    "lst = []\n",
    "start = 0\n",
    "\n",
    "for i in range(length):\n",
    "  if start == 0:\n",
    "    lst.append(start)\n",
    "    start += 1\n",
    "    lst.append(start)\n",
    "  else:\n",
    "    start = start + lst[i-1] #this i-1 allows you to access the previous interger\n",
    "    lst.append(start)\n",
    "\n",
    "lst"
   ]
  },
  {
   "cell_type": "markdown",
   "id": "727f1e1e",
   "metadata": {},
   "source": [
    "### Question 2\n",
    "Transpose the following array from the order (X, Y, Z, T) to (T, Z, Y, X)\n",
    "\n",
    "array = (128, 96, 24, 2)"
   ]
  },
  {
   "cell_type": "code",
   "execution_count": 4,
   "id": "823bc738",
   "metadata": {},
   "outputs": [
    {
     "name": "stdout",
     "output_type": "stream",
     "text": [
      "(2, 24, 96, 128)\n"
     ]
    }
   ],
   "source": [
    "array = (128, 96, 24, 2)\n",
    "transposed = []\n",
    "x = 0\n",
    "y = len(array) - 1\n",
    "\n",
    "while x < len(array):\n",
    "  transposed.append(array[y])\n",
    "  x += 1\n",
    "  y -= 1\n",
    "\n",
    "transposed = tuple(transposed)\n",
    "print(transposed)"
   ]
  }
 ],
 "metadata": {
  "kernelspec": {
   "display_name": "Python 3 (ipykernel)",
   "language": "python",
   "name": "python3"
  },
  "language_info": {
   "codemirror_mode": {
    "name": "ipython",
    "version": 3
   },
   "file_extension": ".py",
   "mimetype": "text/x-python",
   "name": "python",
   "nbconvert_exporter": "python",
   "pygments_lexer": "ipython3",
   "version": "3.9.12"
  }
 },
 "nbformat": 4,
 "nbformat_minor": 5
}
